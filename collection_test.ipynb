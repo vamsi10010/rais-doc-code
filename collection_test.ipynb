{
 "cells": [
  {
   "cell_type": "code",
   "execution_count": 130,
   "metadata": {},
   "outputs": [],
   "source": [
    "import requests\n",
    "from tqdm import tqdm\n",
    "\n",
    "from src.block import CodeBlock, BlockCollection\n",
    "from src.constants import GITHUB_API_KEY"
   ]
  },
  {
   "cell_type": "code",
   "execution_count": 2,
   "metadata": {},
   "outputs": [],
   "source": [
    "test_file_link = \"https://raw.githubusercontent.com/open-mmlab/mmsegmentation/main/docs/en/get_started.md\""
   ]
  },
  {
   "cell_type": "code",
   "execution_count": 3,
   "metadata": {},
   "outputs": [
    {
     "data": {
      "text/plain": [
       "'# Get started: Install and Run MMSeg\\n\\n## Prerequisites\\n\\nIn this section we demonstrate how to prepare an environment with PyTorch.\\n\\nMMSegmentation works on Linux, Windows and macOS. It requires Python 3.7+, CUDA 10.2+ and PyTorch 1.8+.\\n\\n**Note:**\\nIf you are experienced with PyTorch and have already installed it, just skip this part and jump to the [next section](##installation). Otherwise, you can follow these steps for the preparation.\\n\\n**Step 0.** Download and install Miniconda from the [official website](https://docs.conda.io/en/latest/miniconda.html).\\n\\n**Step 1.** Create a conda environment and activate it.\\n\\n```shell\\nconda create --name openmmlab python=3.8 -y\\nconda activate openmmlab\\n```\\n\\n**Step 2.** Install PyTorch following [official instructions](https://pytorch.org/get-started/locally/), e.g.\\n\\nOn GPU platforms:\\n\\n```shell\\nconda install pytorch torchvision -c pytorch\\n```\\n\\nOn CPU platforms:\\n\\n```shell\\nconda install pytorch torchvision cpuonly -c pytorch\\n```\\n\\n## Installation\\n\\nWe recommend that users follow our best practices to install MMSegmentation. However, the whole process is highly customizable. See [Customize Installation](#customize-installation) section for more information.\\n\\n### Best Practices\\n\\n**Step 0.** Install [MMCV](https://github.com/open-mmlab/mmcv) using [MIM](https://github.com/open-mmlab/mim).\\n\\n```shell\\npip install -U openmim\\nmim install mmengine\\nmim install \"mmcv>=2.0.0\"\\n```\\n\\n**Step 1.** Install MMSegmentation.\\n\\nCase a: If you develop and run mmseg directly, install it from source:\\n\\n```shell\\ngit clone -b main https://github.com/open-mmlab/mmsegmentation.git\\ncd mmsegmentation\\npip install -v -e .\\n# \\'-v\\' means verbose, or more output\\n# \\'-e\\' means installing a project in editable mode,\\n# thus any local modifications made to the code will take effect without reinstallation.\\n```\\n\\nCase b: If you use mmsegmentation as a dependency or third-party package, install it with pip:\\n\\n```shell\\npip install \"mmsegmentation>=1.0.0\"\\n```\\n\\n### Verify the installation\\n\\nTo verify whether MMSegmentation is installed correctly, we provide some sample codes to run an inference demo.\\n\\n**Step 1.** We need to download config and checkpoint files.\\n\\n```shell\\nmim download mmsegmentation --config pspnet_r50-d8_4xb2-40k_cityscapes-512x1024 --dest .\\n```\\n\\nThe downloading will take several seconds or more, depending on your network environment. When it is done, you will find two files `pspnet_r50-d8_4xb2-40k_cityscapes-512x1024.py` and `pspnet_r50-d8_512x1024_40k_cityscapes_20200605_003338-2966598c.pth` in your current folder.\\n\\n**Step 2.** Verify the inference demo.\\n\\nOption (a). If you install mmsegmentation from source, just run the following command.\\n\\n```shell\\npython demo/image_demo.py demo/demo.png configs/pspnet/pspnet_r50-d8_4xb2-40k_cityscapes-512x1024.py pspnet_r50-d8_512x1024_40k_cityscapes_20200605_003338-2966598c.pth --device cuda:0 --out-file result.jpg\\n```\\n\\nYou will see a new image `result.jpg` on your current folder, where segmentation masks are covered on all objects.\\n\\nOption (b). If you install mmsegmentation with pip, open you python interpreter and copy&paste the following codes.\\n\\n```python\\nfrom mmseg.apis import inference_model, init_model, show_result_pyplot\\nimport mmcv\\n\\nconfig_file = \\'pspnet_r50-d8_4xb2-40k_cityscapes-512x1024.py\\'\\ncheckpoint_file = \\'pspnet_r50-d8_512x1024_40k_cityscapes_20200605_003338-2966598c.pth\\'\\n\\n# build the model from a config file and a checkpoint file\\nmodel = init_model(config_file, checkpoint_file, device=\\'cuda:0\\')\\n\\n# test a single image and show the results\\nimg = \\'demo/demo.png\\'  # or img = mmcv.imread(img), which will only load it once\\nresult = inference_model(model, img)\\n# visualize the results in a new window\\nshow_result_pyplot(model, img, result, show=True)\\n# or save the visualization results to image files\\n# you can change the opacity of the painted segmentation map in (0, 1].\\nshow_result_pyplot(model, img, result, show=True, out_file=\\'result.jpg\\', opacity=0.5)\\n# test a video and show the results\\nvideo = mmcv.VideoReader(\\'video.mp4\\')\\nfor frame in video:\\n   result = inference_model(model, frame)\\n   show_result_pyplot(model, frame, result, wait_time=1)\\n```\\n\\nYou can modify the code above to test a single image or a video, both of these options can verify that the installation was successful.\\n\\n### Customize Installation\\n\\n#### CUDA versions\\n\\nWhen installing PyTorch, you need to specify the version of CUDA. If you are not clear on which to choose, follow our recommendations:\\n\\n- For Ampere-based NVIDIA GPUs, such as GeForce 30 series and NVIDIA A100, CUDA 11 is a must.\\n- For older NVIDIA GPUs, CUDA 11 is backward compatible, but CUDA 10.2 offers better compatibility and is more lightweight.\\n\\nPlease make sure the GPU driver satisfies the minimum version requirements. See [this table](https://docs.nvidia.com/cuda/cuda-toolkit-release-notes/index.html#cuda-major-component-versions__table-cuda-toolkit-driver-versions) for more information.\\n\\n**Note:**\\nInstalling CUDA runtime libraries is enough if you follow our best practices, because no CUDA code will be compiled locally. However if you hope to compile MMCV from source or develop other CUDA operators, you need to install the complete CUDA toolkit from NVIDIA\\'s [website](https://developer.nvidia.com/cuda-downloads), and its version should match the CUDA version of PyTorch. i.e., the specified version of cudatoolkit in `conda install` command.\\n\\n#### Install MMCV without MIM\\n\\nMMCV contains C++ and CUDA extensions, thus depending on PyTorch in a complex way. MIM solves such dependencies automatically and makes the installation easier. However, it is not a must.\\n\\nTo install MMCV with pip instead of MIM, please follow [MMCV installation guides](https://mmcv.readthedocs.io/en/latest/get_started/installation.html). This requires manually specifying a find-url based on PyTorch version and its CUDA version.\\n\\nFor example, the following command install mmcv==2.0.0 built for PyTorch 1.10.x and CUDA 11.3.\\n\\n```shell\\npip install mmcv==2.0.0 -f https://download.openmmlab.com/mmcv/dist/cu113/torch1.10/index.html\\n```\\n\\n#### Install on CPU-only platforms\\n\\nMMSegmentation can be built for CPU only environment. In CPU mode you can train (requires MMCV version >= 2.0.0), test or inference a model.\\n\\n#### Install on Google Colab\\n\\n[Google Colab](https://research.google.com/) usually has PyTorch installed,\\nthus we only need to install MMCV and MMSegmentation with the following commands.\\n\\n**Step 1.** Install [MMCV](https://github.com/open-mmlab/mmcv) using [MIM](https://github.com/open-mmlab/mim).\\n\\n```shell\\n!pip3 install openmim\\n!mim install mmengine\\n!mim install \"mmcv>=2.0.0\"\\n```\\n\\n**Step 2.** Install MMSegmentation from the source.\\n\\n```shell\\n!git clone https://github.com/open-mmlab/mmsegmentation.git\\n%cd mmsegmentation\\n!git checkout main\\n!pip install -e .\\n```\\n\\n**Step 3.** Verification.\\n\\n```python\\nimport mmseg\\nprint(mmseg.__version__)\\n# Example output: 1.0.0\\n```\\n\\n**Note:**\\nWithin Jupyter, the exclamation mark `!` is used to call external executables and `%cd` is a [magic command](https://ipython.readthedocs.io/en/stable/interactive/magics.html#magic-cd) to change the current working directory of Python.\\n\\n### Using MMSegmentation with Docker\\n\\nWe provide a [Dockerfile](https://github.com/open-mmlab/mmsegmentation/blob/main/docker/Dockerfile) to build an image. Ensure that your [docker version](https://docs.docker.com/engine/install/) >=19.03.\\n\\n```shell\\n# build an image with PyTorch 1.11, CUDA 11.3\\n# If you prefer other versions, just modified the Dockerfile\\ndocker build -t mmsegmentation docker/\\n```\\n\\nRun it with\\n\\n```shell\\ndocker run --gpus all --shm-size=8g -it -v {DATA_DIR}:/mmsegmentation/data mmsegmentation\\n```\\n\\n### Optional Dependencies\\n\\n#### Install GDAL\\n\\n[GDAL](https://gdal.org/) is a translator library for raster and vector geospatial data formats. Install GDAL to read complex formats and extremely large remote sensing images.\\n\\n```shell\\nconda install GDAL\\n```\\n\\n## Trouble shooting\\n\\nIf you have some issues during the installation, please first view the [FAQ](notes/faq.md) page.\\nYou may [open an issue](https://github.com/open-mmlab/mmsegmentation/issues/new/choose) on GitHub if no solution is found.\\n'"
      ]
     },
     "execution_count": 3,
     "metadata": {},
     "output_type": "execute_result"
    }
   ],
   "source": [
    "text = requests.get(test_file_link).text\n",
    "text"
   ]
  },
  {
   "cell_type": "code",
   "execution_count": 4,
   "metadata": {},
   "outputs": [],
   "source": [
    "bc = BlockCollection()\n",
    "bc.add_to_collection(text)"
   ]
  },
  {
   "cell_type": "code",
   "execution_count": 5,
   "metadata": {},
   "outputs": [
    {
     "name": "stdout",
     "output_type": "stream",
     "text": [
      "BlockCollection ---------------------------------\n",
      "CodeBlock(\n",
      "\tLanguage: shell\n",
      "\tDescription: Step 1. Create a conda environment and activate it.\n",
      "\tCode:\n",
      "conda create --name openmmlab python=3.8 -y\n",
      "conda activate openmmlab\n",
      ")\n",
      "CodeBlock(\n",
      "\tLanguage: shell\n",
      "\tDescription: On GPU platforms:\n",
      "\tCode:\n",
      "conda install pytorch torchvision -c pytorch\n",
      ")\n",
      "CodeBlock(\n",
      "\tLanguage: shell\n",
      "\tDescription: On CPU platforms:\n",
      "\tCode:\n",
      "conda install pytorch torchvision cpuonly -c pytorch\n",
      ")\n",
      "CodeBlock(\n",
      "\tLanguage: shell\n",
      "\tDescription: Step 0. Install MMCV using MIM.\n",
      "\tCode:\n",
      "pip install -U openmim\n",
      "mim install mmengine\n",
      "mim install \"mmcv>=2.0.0\"\n",
      ")\n",
      "CodeBlock(\n",
      "\tLanguage: shell\n",
      "\tDescription: Case a: If you develop and run mmseg directly, install it from source:\n",
      "\tCode:\n",
      "git clone -b main https://github.com/open-mmlab/mmsegmentation.git\n",
      "cd mmsegmentation\n",
      "pip install -v -e .\n",
      "# '-v' means verbose, or more output\n",
      "# '-e' means installing a project in editable mode,\n",
      "# thus any local modifications made to the code will take effect without reinstallation.\n",
      ")\n",
      "CodeBlock(\n",
      "\tLanguage: shell\n",
      "\tDescription: Case b: If you use mmsegmentation as a dependency or third-party package, install it with pip:\n",
      "\tCode:\n",
      "pip install \"mmsegmentation>=1.0.0\"\n",
      ")\n",
      "CodeBlock(\n",
      "\tLanguage: shell\n",
      "\tDescription: Step 1. We need to download config and checkpoint files.\n",
      "\tCode:\n",
      "mim download mmsegmentation --config pspnet_r50-d8_4xb2-40k_cityscapes-512x1024 --dest .\n",
      ")\n",
      "CodeBlock(\n",
      "\tLanguage: shell\n",
      "\tDescription: Option (a). If you install mmsegmentation from source, just run the following command.\n",
      "\tCode:\n",
      "python demo/image_demo.py demo/demo.png configs/pspnet/pspnet_r50-d8_4xb2-40k_cityscapes-512x1024.py pspnet_r50-d8_512x1024_40k_cityscapes_20200605_003338-2966598c.pth --device cuda:0 --out-file result.jpg\n",
      ")\n",
      "CodeBlock(\n",
      "\tLanguage: python\n",
      "\tDescription: Option (b). If you install mmsegmentation with pip, open you python interpreter and copy&paste the following codes.\n",
      "\tCode:\n",
      "from mmseg.apis import inference_model, init_model, show_result_pyplot\n",
      "import mmcv\n",
      "\n",
      "config_file = 'pspnet_r50-d8_4xb2-40k_cityscapes-512x1024.py'\n",
      "checkpoint_file = 'pspnet_r50-d8_512x1024_40k_cityscapes_20200605_003338-2966598c.pth'\n",
      "\n",
      "# build the model from a config file and a checkpoint file\n",
      "model = init_model(config_file, checkpoint_file, device='cuda:0')\n",
      "\n",
      "# test a single image and show the results\n",
      "img = 'demo/demo.png'  # or img = mmcv.imread(img), which will only load it once\n",
      "result = inference_model(model, img)\n",
      "# visualize the results in a new window\n",
      "show_result_pyplot(model, img, result, show=True)\n",
      "# or save the visualization results to image files\n",
      "# you can change the opacity of the painted segmentation map in (0, 1].\n",
      "show_result_pyplot(model, img, result, show=True, out_file='result.jpg', opacity=0.5)\n",
      "# test a video and show the results\n",
      "video = mmcv.VideoReader('video.mp4')\n",
      "for frame in video:\n",
      "   result = inference_model(model, frame)\n",
      "   show_result_pyplot(model, frame, result, wait_time=1)\n",
      ")\n",
      "CodeBlock(\n",
      "\tLanguage: shell\n",
      "\tDescription: For example, the following command install mmcv==2.0.0 built for PyTorch 1.10.x and CUDA 11.3.\n",
      "\tCode:\n",
      "pip install mmcv==2.0.0 -f https://download.openmmlab.com/mmcv/dist/cu113/torch1.10/index.html\n",
      ")\n",
      "CodeBlock(\n",
      "\tLanguage: shell\n",
      "\tDescription: Step 1. Install MMCV using MIM.\n",
      "\tCode:\n",
      "!pip3 install openmim\n",
      "!mim install mmengine\n",
      "!mim install \"mmcv>=2.0.0\"\n",
      ")\n",
      "CodeBlock(\n",
      "\tLanguage: shell\n",
      "\tDescription: Step 2. Install MMSegmentation from the source.\n",
      "\tCode:\n",
      "!git clone https://github.com/open-mmlab/mmsegmentation.git\n",
      "%cd mmsegmentation\n",
      "!git checkout main\n",
      "!pip install -e .\n",
      ")\n",
      "CodeBlock(\n",
      "\tLanguage: python\n",
      "\tDescription: Step 3. Verification.\n",
      "\tCode:\n",
      "import mmseg\n",
      "print(mmseg.__version__)\n",
      "# Example output: 1.0.0\n",
      ")\n",
      "CodeBlock(\n",
      "\tLanguage: shell\n",
      "\tDescription: We provide a Dockerfile to build an image. Ensure that your docker version >=19.03.\n",
      "\tCode:\n",
      "# build an image with PyTorch 1.11, CUDA 11.3\n",
      "# If you prefer other versions, just modified the Dockerfile\n",
      "docker build -t mmsegmentation docker/\n",
      ")\n",
      "CodeBlock(\n",
      "\tLanguage: shell\n",
      "\tDescription: Run it with\n",
      "\tCode:\n",
      "docker run --gpus all --shm-size=8g -it -v {DATA_DIR}:/mmsegmentation/data mmsegmentation\n",
      ")\n",
      "CodeBlock(\n",
      "\tLanguage: shell\n",
      "\tDescription: GDAL is a translator library for raster and vector geospatial data formats. Install GDAL to read complex formats and extremely large remote sensing images.\n",
      "\tCode:\n",
      "conda install GDAL\n",
      ")\n",
      "-------------------------------------------------\n"
     ]
    }
   ],
   "source": [
    "print(bc)"
   ]
  },
  {
   "cell_type": "code",
   "execution_count": null,
   "metadata": {},
   "outputs": [],
   "source": []
  },
  {
   "cell_type": "code",
   "execution_count": null,
   "metadata": {},
   "outputs": [],
   "source": []
  }
 ],
 "metadata": {
  "kernelspec": {
   "display_name": "rais",
   "language": "python",
   "name": "python3"
  },
  "language_info": {
   "codemirror_mode": {
    "name": "ipython",
    "version": 3
   },
   "file_extension": ".py",
   "mimetype": "text/x-python",
   "name": "python",
   "nbconvert_exporter": "python",
   "pygments_lexer": "ipython3",
   "version": "3.11.8"
  }
 },
 "nbformat": 4,
 "nbformat_minor": 2
}
